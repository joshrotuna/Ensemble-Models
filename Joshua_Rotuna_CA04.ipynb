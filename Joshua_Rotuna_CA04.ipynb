{
  "nbformat": 4,
  "nbformat_minor": 0,
  "metadata": {
    "colab": {
      "name": "Joshua_Rotuna_CA04.ipynb",
      "provenance": [],
      "collapsed_sections": []
    },
    "kernelspec": {
      "name": "python3",
      "display_name": "Python 3"
    }
  },
  "cells": [
    {
      "cell_type": "markdown",
      "metadata": {
        "id": "hZsPOoZwn3Qy"
      },
      "source": [
        "# Joshua Rotuna - CA04"
      ]
    },
    {
      "cell_type": "code",
      "metadata": {
        "colab": {
          "base_uri": "https://localhost:8080/"
        },
        "id": "8qPemjeMLFa5",
        "outputId": "a8af6970-8222-43ad-97e2-7d5045b060e4"
      },
      "source": [
        "#Importing modules-packages\n",
        "import numpy as np\n",
        "import pandas as pd\n",
        "import matplotlib.pyplot as plt\n",
        "from sklearn.metrics import accuracy_score\n",
        "from sklearn.metrics import precision_score\n",
        "from sklearn.tree import DecisionTreeClassifier\n",
        "from sklearn import tree\n",
        "from google.colab import drive\n",
        "from sklearn import metrics\n",
        "from sklearn.metrics import roc_auc_score\n",
        "!pip install xgboost\n",
        "import xgboost as xgb"
      ],
      "execution_count": 46,
      "outputs": [
        {
          "output_type": "stream",
          "text": [
            "Requirement already satisfied: xgboost in /usr/local/lib/python3.7/dist-packages (0.90)\n",
            "Requirement already satisfied: numpy in /usr/local/lib/python3.7/dist-packages (from xgboost) (1.19.5)\n",
            "Requirement already satisfied: scipy in /usr/local/lib/python3.7/dist-packages (from xgboost) (1.4.1)\n"
          ],
          "name": "stdout"
        }
      ]
    },
    {
      "cell_type": "markdown",
      "metadata": {
        "id": "oAJa_sYsfELm"
      },
      "source": [
        "## Mounting Google Drive & Reading in the dataset"
      ]
    },
    {
      "cell_type": "code",
      "metadata": {
        "colab": {
          "base_uri": "https://localhost:8080/"
        },
        "id": "jZPOmqp_LoPJ",
        "outputId": "4a3cb7a2-8234-4185-b56d-0f4bffc21b87"
      },
      "source": [
        "# Mounting Google Drive\n",
        "drive.mount(\"/content/drive\")"
      ],
      "execution_count": 47,
      "outputs": [
        {
          "output_type": "stream",
          "text": [
            "Drive already mounted at /content/drive; to attempt to forcibly remount, call drive.mount(\"/content/drive\", force_remount=True).\n"
          ],
          "name": "stdout"
        }
      ]
    },
    {
      "cell_type": "code",
      "metadata": {
        "id": "_tzIZ4SlLoRn",
        "colab": {
          "base_uri": "https://localhost:8080/",
          "height": 204
        },
        "outputId": "e140abcb-9bbc-46c2-bb90-f431538cd71b"
      },
      "source": [
        "# Reading in the data set\n",
        "cens = '/content/drive/My Drive/MSBA_Colab_2020/ML_Algorithms/CA04/census_data.csv'\n",
        "cens = pd.read_csv(cens)\n",
        "cens.head()"
      ],
      "execution_count": 48,
      "outputs": [
        {
          "output_type": "execute_result",
          "data": {
            "text/html": [
              "<div>\n",
              "<style scoped>\n",
              "    .dataframe tbody tr th:only-of-type {\n",
              "        vertical-align: middle;\n",
              "    }\n",
              "\n",
              "    .dataframe tbody tr th {\n",
              "        vertical-align: top;\n",
              "    }\n",
              "\n",
              "    .dataframe thead th {\n",
              "        text-align: right;\n",
              "    }\n",
              "</style>\n",
              "<table border=\"1\" class=\"dataframe\">\n",
              "  <thead>\n",
              "    <tr style=\"text-align: right;\">\n",
              "      <th></th>\n",
              "      <th>hours_per_week_bin</th>\n",
              "      <th>occupation_bin</th>\n",
              "      <th>msr_bin</th>\n",
              "      <th>capital_gl_bin</th>\n",
              "      <th>race_sex_bin</th>\n",
              "      <th>education_num_bin</th>\n",
              "      <th>education_bin</th>\n",
              "      <th>workclass_bin</th>\n",
              "      <th>age_bin</th>\n",
              "      <th>flag</th>\n",
              "      <th>y</th>\n",
              "    </tr>\n",
              "  </thead>\n",
              "  <tbody>\n",
              "    <tr>\n",
              "      <th>0</th>\n",
              "      <td>b. 31-40</td>\n",
              "      <td>b. Mid - Low</td>\n",
              "      <td>b. Mid</td>\n",
              "      <td>c. &gt; 0</td>\n",
              "      <td>c. High</td>\n",
              "      <td>c. 13</td>\n",
              "      <td>c. Bachelors</td>\n",
              "      <td>b. income</td>\n",
              "      <td>d. 36-40 &amp; 56-60</td>\n",
              "      <td>train</td>\n",
              "      <td>0</td>\n",
              "    </tr>\n",
              "    <tr>\n",
              "      <th>1</th>\n",
              "      <td>a. 0-30</td>\n",
              "      <td>e. High</td>\n",
              "      <td>c. High</td>\n",
              "      <td>a. = 0</td>\n",
              "      <td>c. High</td>\n",
              "      <td>c. 13</td>\n",
              "      <td>c. Bachelors</td>\n",
              "      <td>b. income</td>\n",
              "      <td>e. 40-55</td>\n",
              "      <td>train</td>\n",
              "      <td>0</td>\n",
              "    </tr>\n",
              "    <tr>\n",
              "      <th>2</th>\n",
              "      <td>b. 31-40</td>\n",
              "      <td>a. Low</td>\n",
              "      <td>b. Mid</td>\n",
              "      <td>a. = 0</td>\n",
              "      <td>c. High</td>\n",
              "      <td>b. 9-12</td>\n",
              "      <td>b. Mid</td>\n",
              "      <td>b. income</td>\n",
              "      <td>d. 36-40 &amp; 56-60</td>\n",
              "      <td>train</td>\n",
              "      <td>0</td>\n",
              "    </tr>\n",
              "    <tr>\n",
              "      <th>3</th>\n",
              "      <td>b. 31-40</td>\n",
              "      <td>a. Low</td>\n",
              "      <td>c. High</td>\n",
              "      <td>a. = 0</td>\n",
              "      <td>b. Mid</td>\n",
              "      <td>a. 0-8</td>\n",
              "      <td>a. Low</td>\n",
              "      <td>b. income</td>\n",
              "      <td>e. 40-55</td>\n",
              "      <td>train</td>\n",
              "      <td>0</td>\n",
              "    </tr>\n",
              "    <tr>\n",
              "      <th>4</th>\n",
              "      <td>b. 31-40</td>\n",
              "      <td>e. High</td>\n",
              "      <td>c. High</td>\n",
              "      <td>a. = 0</td>\n",
              "      <td>a. Low</td>\n",
              "      <td>c. 13</td>\n",
              "      <td>c. Bachelors</td>\n",
              "      <td>b. income</td>\n",
              "      <td>b. 26-30 &amp; 71-100</td>\n",
              "      <td>train</td>\n",
              "      <td>0</td>\n",
              "    </tr>\n",
              "  </tbody>\n",
              "</table>\n",
              "</div>"
            ],
            "text/plain": [
              "  hours_per_week_bin occupation_bin  msr_bin  ...            age_bin   flag  y\n",
              "0           b. 31-40   b. Mid - Low   b. Mid  ...   d. 36-40 & 56-60  train  0\n",
              "1            a. 0-30        e. High  c. High  ...           e. 40-55  train  0\n",
              "2           b. 31-40         a. Low   b. Mid  ...   d. 36-40 & 56-60  train  0\n",
              "3           b. 31-40         a. Low  c. High  ...           e. 40-55  train  0\n",
              "4           b. 31-40        e. High  c. High  ...  b. 26-30 & 71-100  train  0\n",
              "\n",
              "[5 rows x 11 columns]"
            ]
          },
          "metadata": {
            "tags": []
          },
          "execution_count": 48
        }
      ]
    },
    {
      "cell_type": "markdown",
      "metadata": {
        "id": "X1wbYFure70g"
      },
      "source": [
        "## Summary Statistics"
      ]
    },
    {
      "cell_type": "code",
      "metadata": {
        "id": "mxf8yRi2MH6c",
        "colab": {
          "base_uri": "https://localhost:8080/"
        },
        "outputId": "aa2f9463-0f20-4ac1-fe1c-97d33408d150"
      },
      "source": [
        "# Descriptive Stats\n",
        "cens.head()\n",
        "cens.describe()\n",
        "cens.isna().sum()\n",
        "cens.info()\n",
        "cens.duplicated().sum()"
      ],
      "execution_count": 49,
      "outputs": [
        {
          "output_type": "stream",
          "text": [
            "<class 'pandas.core.frame.DataFrame'>\n",
            "RangeIndex: 48842 entries, 0 to 48841\n",
            "Data columns (total 11 columns):\n",
            " #   Column              Non-Null Count  Dtype \n",
            "---  ------              --------------  ----- \n",
            " 0   hours_per_week_bin  48842 non-null  object\n",
            " 1   occupation_bin      48842 non-null  object\n",
            " 2   msr_bin             48842 non-null  object\n",
            " 3   capital_gl_bin      48842 non-null  object\n",
            " 4   race_sex_bin        48842 non-null  object\n",
            " 5   education_num_bin   48842 non-null  object\n",
            " 6   education_bin       48842 non-null  object\n",
            " 7   workclass_bin       48842 non-null  object\n",
            " 8   age_bin             48842 non-null  object\n",
            " 9   flag                48842 non-null  object\n",
            " 10  y                   48842 non-null  int64 \n",
            "dtypes: int64(1), object(10)\n",
            "memory usage: 4.1+ MB\n"
          ],
          "name": "stdout"
        },
        {
          "output_type": "execute_result",
          "data": {
            "text/plain": [
              "40012"
            ]
          },
          "metadata": {
            "tags": []
          },
          "execution_count": 49
        }
      ]
    },
    {
      "cell_type": "code",
      "metadata": {
        "colab": {
          "base_uri": "https://localhost:8080/",
          "height": 204
        },
        "id": "6GIBVFJLM3jV",
        "outputId": "83e2017d-5afe-4fb6-c799-147dc1f1de25"
      },
      "source": [
        "# Creating Dummy Variables wihtin each column for Ensemble Model\n",
        "cens_dummy = cens\n",
        "cens_dummy.replace(regex={r'[a]. ': 1, r'[b]. ': 2, r'[c].': 3, r'[d]. ': 4, r'[e]. ': 5}, inplace=True)\n",
        "cens_dummy.head()"
      ],
      "execution_count": 50,
      "outputs": [
        {
          "output_type": "execute_result",
          "data": {
            "text/html": [
              "<div>\n",
              "<style scoped>\n",
              "    .dataframe tbody tr th:only-of-type {\n",
              "        vertical-align: middle;\n",
              "    }\n",
              "\n",
              "    .dataframe tbody tr th {\n",
              "        vertical-align: top;\n",
              "    }\n",
              "\n",
              "    .dataframe thead th {\n",
              "        text-align: right;\n",
              "    }\n",
              "</style>\n",
              "<table border=\"1\" class=\"dataframe\">\n",
              "  <thead>\n",
              "    <tr style=\"text-align: right;\">\n",
              "      <th></th>\n",
              "      <th>hours_per_week_bin</th>\n",
              "      <th>occupation_bin</th>\n",
              "      <th>msr_bin</th>\n",
              "      <th>capital_gl_bin</th>\n",
              "      <th>race_sex_bin</th>\n",
              "      <th>education_num_bin</th>\n",
              "      <th>education_bin</th>\n",
              "      <th>workclass_bin</th>\n",
              "      <th>age_bin</th>\n",
              "      <th>flag</th>\n",
              "      <th>y</th>\n",
              "    </tr>\n",
              "  </thead>\n",
              "  <tbody>\n",
              "    <tr>\n",
              "      <th>0</th>\n",
              "      <td>2</td>\n",
              "      <td>2</td>\n",
              "      <td>2</td>\n",
              "      <td>3</td>\n",
              "      <td>3</td>\n",
              "      <td>3</td>\n",
              "      <td>3</td>\n",
              "      <td>2</td>\n",
              "      <td>4</td>\n",
              "      <td>train</td>\n",
              "      <td>0</td>\n",
              "    </tr>\n",
              "    <tr>\n",
              "      <th>1</th>\n",
              "      <td>1</td>\n",
              "      <td>5</td>\n",
              "      <td>3</td>\n",
              "      <td>1</td>\n",
              "      <td>3</td>\n",
              "      <td>3</td>\n",
              "      <td>3</td>\n",
              "      <td>2</td>\n",
              "      <td>5</td>\n",
              "      <td>train</td>\n",
              "      <td>0</td>\n",
              "    </tr>\n",
              "    <tr>\n",
              "      <th>2</th>\n",
              "      <td>2</td>\n",
              "      <td>1</td>\n",
              "      <td>2</td>\n",
              "      <td>1</td>\n",
              "      <td>3</td>\n",
              "      <td>2</td>\n",
              "      <td>2</td>\n",
              "      <td>2</td>\n",
              "      <td>4</td>\n",
              "      <td>train</td>\n",
              "      <td>0</td>\n",
              "    </tr>\n",
              "    <tr>\n",
              "      <th>3</th>\n",
              "      <td>2</td>\n",
              "      <td>1</td>\n",
              "      <td>3</td>\n",
              "      <td>1</td>\n",
              "      <td>2</td>\n",
              "      <td>1</td>\n",
              "      <td>1</td>\n",
              "      <td>2</td>\n",
              "      <td>5</td>\n",
              "      <td>train</td>\n",
              "      <td>0</td>\n",
              "    </tr>\n",
              "    <tr>\n",
              "      <th>4</th>\n",
              "      <td>2</td>\n",
              "      <td>5</td>\n",
              "      <td>3</td>\n",
              "      <td>1</td>\n",
              "      <td>1</td>\n",
              "      <td>3</td>\n",
              "      <td>3</td>\n",
              "      <td>2</td>\n",
              "      <td>2</td>\n",
              "      <td>train</td>\n",
              "      <td>0</td>\n",
              "    </tr>\n",
              "  </tbody>\n",
              "</table>\n",
              "</div>"
            ],
            "text/plain": [
              "   hours_per_week_bin  occupation_bin  msr_bin  ...  age_bin   flag  y\n",
              "0                   2               2        2  ...        4  train  0\n",
              "1                   1               5        3  ...        5  train  0\n",
              "2                   2               1        2  ...        4  train  0\n",
              "3                   2               1        3  ...        5  train  0\n",
              "4                   2               5        3  ...        2  train  0\n",
              "\n",
              "[5 rows x 11 columns]"
            ]
          },
          "metadata": {
            "tags": []
          },
          "execution_count": 50
        }
      ]
    },
    {
      "cell_type": "code",
      "metadata": {
        "id": "0zFyDyeXNsqd"
      },
      "source": [
        "# Splitting the Data into Testa nd training sets\n",
        "  # X training data split\n",
        "x_train = cens_dummy[cens_dummy.flag=='train']\n",
        "x_train = x_train.iloc[:,0:9]\n",
        "\n",
        "  # X test data split\n",
        "x_test =  cens_dummy[cens_dummy.flag=='test']\n",
        "x_test = x_test.iloc[:,0:9]\n",
        "\n",
        "  # y test split\n",
        "y_test = cens_dummy[cens_dummy.flag=='test']\n",
        "y_test = y_test.iloc[:,10]\n",
        "\n",
        "  # y train split\n",
        "y_train = cens_dummy[cens_dummy.flag=='train']\n",
        "y_train = y_train.iloc[:,10]\n"
      ],
      "execution_count": 51,
      "outputs": []
    },
    {
      "cell_type": "markdown",
      "metadata": {
        "id": "i16Fus7rPfuw"
      },
      "source": [
        "## 2. Finding Optimal Value of a max_depth "
      ]
    },
    {
      "cell_type": "code",
      "metadata": {
        "id": "CavnWTgeOCkZ",
        "colab": {
          "base_uri": "https://localhost:8080/",
          "height": 295
        },
        "outputId": "1fe32ea8-4ad3-41a0-c977-383f869d9ef9"
      },
      "source": [
        "# Finding optimal max_depth value\n",
        "results = []    # Creating blank list to append results to\n",
        "max_depth_options = [2,4,6,8,10,12,14,16,18,20]\n",
        "\n",
        "for trees in max_depth_options: # Creating for loop to iterate through each max_depth value\n",
        "  model = DecisionTreeClassifier(max_depth=trees, random_state=101)   # Running DecisionTreeClassifier model\n",
        "  model.fit(x_train, y_train)           # Fitting model with x_train and y_train datsets\n",
        "  y_pred = model.predict(x_test)        # making predicitons\n",
        "  accuracy = np.mean(y_test==y_pred)    # Calculating accuracy scores\n",
        "  results.append(accuracy)              # Appending accuracy score to Results list\n",
        "plt.figure(figsize=(10,4))              # Creating a graph to plot the accuracy against the max_depth value\n",
        "pd.Series(results, max_depth_options).plot(color='g', marker = 'o', linewidth=2)\n",
        "plt.grid()\n",
        "plt.xlabel(\"Max Depth\")\n",
        "plt.ylabel(\"Accuracy Score\")\n",
        "plt.title(\"Accuracy vs Max Depth\")\n",
        "plt.show()\n",
        "  # Highest accuracy score is observed when max_depth is set to 8.\n",
        "  # Therefore, max_depth = 8 is optimal value?"
      ],
      "execution_count": 52,
      "outputs": [
        {
          "output_type": "display_data",
          "data": {
            "image/png": "[encoded data removed]",
            "text/plain": [
              "<Figure size 720x288 with 1 Axes>"
            ]
          },
          "metadata": {
            "tags": [],
            "needs_background": "light"
          }
        }
      ]
    },
    {
      "cell_type": "markdown",
      "metadata": {
        "id": "e0r-hwuAPm1_"
      },
      "source": [
        "## Random Forest Model\n"
      ]
    },
    {
      "cell_type": "code",
      "metadata": {
        "colab": {
          "base_uri": "https://localhost:8080/",
          "height": 635
        },
        "id": "_8TZ0alUWr_r",
        "outputId": "d5deccd9-cc40-4178-8d4e-fd5e1bd321a3"
      },
      "source": [
        "# Random Forest Model\n",
        "from sklearn.ensemble import RandomForestClassifier\n",
        "\n",
        "results = []    # Creating blank list\n",
        "tree_amount = [50,100,150,200,250,300,350,400,450,500]    # identifying the number of n_estimator values\n",
        "for x in tree_amount:             # Running a for loop to run the model for each n_estimator value\n",
        "  model = RandomForestClassifier(n_estimators=x, max_features=\"auto\", random_state = 0)\n",
        "  model.fit(x_train, y_train)         # Fitting model with x_train and y_train datsets\n",
        "  y_pred = model.predict(x_test)      # making predicitons\n",
        "  accuracy = np.mean(y_test==y_pred)  # Calculating accuracy score (for each n_estimator)\n",
        "  results.append(accuracy)\n",
        "  auc_score =  metrics.roc_auc_score(y_test, y_pred)\n",
        "  print(\"Accuracy\",x,\":\", accuracy)\n",
        "  print(\"AUC     \",x,\":\", auc_score)\n",
        "\n",
        "# Displaying the accuracy scores at each given n_estimator on a plot\n",
        "plt.figure(figsize=(10,4))\n",
        "pd.Series(results, tree_amount).plot(marker=\"o\")\n",
        "plt.ylabel(\"Accuracy\")\n",
        "plt.xlabel(\"Number of Trees\")\n",
        "plt.title(\"Random Forest Model\")\n",
        "plt.grid()\n",
        "plt.show()"
      ],
      "execution_count": 53,
      "outputs": [
        {
          "output_type": "stream",
          "text": [
            "Accuracy 50 : 0.8359437380996253\n",
            "AUC      50 : 0.7443481454577846\n",
            "Accuracy 100 : 0.8374792703150912\n",
            "AUC      100 : 0.7465207221075333\n",
            "Accuracy 150 : 0.8365579509858116\n",
            "AUC      150 : 0.7443910518785046\n",
            "Accuracy 200 : 0.837172163871998\n",
            "AUC      200 : 0.744882938863996\n",
            "Accuracy 250 : 0.8375406916037098\n",
            "AUC      250 : 0.7459323584041069\n",
            "Accuracy 300 : 0.8376021128923284\n",
            "AUC      300 : 0.7465113441690865\n",
            "Accuracy 350 : 0.8376021128923284\n",
            "AUC      350 : 0.7462419558302236\n",
            "Accuracy 400 : 0.8374792703150912\n",
            "AUC      400 : 0.7459819454298077\n",
            "Accuracy 450 : 0.8376021128923284\n",
            "AUC      450 : 0.7463317519431779\n",
            "Accuracy 500 : 0.8376635341809471\n",
            "AUC      500 : 0.7470903299340659\n"
          ],
          "name": "stdout"
        },
        {
          "output_type": "display_data",
          "data": {
            "image/png": "[encoded data removed]",
            "text/plain": [
              "<Figure size 720x288 with 1 Axes>"
            ]
          },
          "metadata": {
            "tags": [],
            "needs_background": "light"
          }
        }
      ]
    },
    {
      "cell_type": "markdown",
      "metadata": {
        "id": "xtGNZ7ApnyD4"
      },
      "source": [
        "## AdaBoost Model"
      ]
    },
    {
      "cell_type": "code",
      "metadata": {
        "colab": {
          "base_uri": "https://localhost:8080/",
          "height": 635
        },
        "id": "-XcoHmIBUUGT",
        "outputId": "6708b219-d41b-4846-cb33-59eb4d773062"
      },
      "source": [
        "# AdaBoost Model\n",
        "from sklearn.ensemble import AdaBoostClassifier\n",
        "from sklearn.datasets import make_classification\n",
        "\n",
        "results = []    # Creating blank list\n",
        "tree_amount = [50,100,150,200,250,300,350,400,450,500]    # Defining n_estimator values\n",
        "for x in tree_amount:                   # Running a for loop to run the model for each n_estimator value\n",
        "  model = AdaBoostClassifier(n_estimators=x)    # Calling Adaboost model\n",
        "  model.fit(x_train, y_train)                   # Fitting model with necessary datasets\n",
        "  y_pred = model.predict(x_test)                # Making predicitons\n",
        "  accuracy = np.mean(y_test==y_pred)            # Calculating accuracy scores\n",
        "  results.append(accuracy)                      # Appedning accuracy scores to results list\n",
        "  auc_score =  metrics.roc_auc_score(y_test, y_pred)\n",
        "  print(\"Accuracy\",x,\":\", accuracy)\n",
        "  print(\"AUC     \",x,\":\", auc_score)\n",
        "\n",
        "# Displaying the accuracy scores at each given n_estimator on a plot\n",
        "plt.figure(figsize=(10,4))\n",
        "pd.Series(results, tree_amount).plot(marker=\"o\")\n",
        "plt.ylabel(\"Accuracy\")\n",
        "plt.xlabel(\"Number of Trees\")\n",
        "plt.title(\"AdaBoost Model\")\n",
        "plt.grid()\n",
        "plt.show()"
      ],
      "execution_count": 54,
      "outputs": [
        {
          "output_type": "stream",
          "text": [
            "Accuracy 50 : 0.8447269823720902\n",
            "AUC      50 : 0.7390531230416888\n",
            "Accuracy 100 : 0.8449112462379461\n",
            "AUC      100 : 0.7460880510009302\n",
            "Accuracy 150 : 0.8449112462379461\n",
            "AUC      150 : 0.7463574393397931\n",
            "Accuracy 200 : 0.8447884036607088\n",
            "AUC      200 : 0.7460076328264228\n",
            "Accuracy 250 : 0.8447884036607088\n",
            "AUC      250 : 0.7460076328264228\n",
            "Accuracy 300 : 0.8447884036607088\n",
            "AUC      300 : 0.7460076328264228\n",
            "Accuracy 350 : 0.8447884036607088\n",
            "AUC      350 : 0.7460076328264228\n",
            "Accuracy 400 : 0.8447884036607088\n",
            "AUC      400 : 0.7460076328264228\n",
            "Accuracy 450 : 0.8447884036607088\n",
            "AUC      450 : 0.7460076328264228\n",
            "Accuracy 500 : 0.8447884036607088\n",
            "AUC      500 : 0.7460076328264228\n"
          ],
          "name": "stdout"
        },
        {
          "output_type": "display_data",
          "data": {
            "image/png": "[encoded data removed]",
            "text/plain": [
              "<Figure size 720x288 with 1 Axes>"
            ]
          },
          "metadata": {
            "tags": [],
            "needs_background": "light"
          }
        }
      ]
    },
    {
      "cell_type": "markdown",
      "metadata": {
        "id": "S4Gl89w7n0le"
      },
      "source": [
        "## Gradient Boosting Model"
      ]
    },
    {
      "cell_type": "code",
      "metadata": {
        "id": "OxYy7hLJYL_w",
        "colab": {
          "base_uri": "https://localhost:8080/",
          "height": 635
        },
        "outputId": "05f15768-069a-4065-d3a0-da4abfeadd82"
      },
      "source": [
        "# Gradient Boost Model\n",
        "from sklearn.datasets import make_hastie_10_2\n",
        "from sklearn.ensemble import GradientBoostingClassifier\n",
        "\n",
        "results = []        # Creating blank list\n",
        "tree_amount = [50,100,150,200,250,300,350,400,450,500]    # Defining n_estimator values\n",
        "for x in tree_amount:\n",
        "  model = GradientBoostingClassifier(n_estimators=x, random_state = 0)    #Calling GradientBoostingClassifier model\n",
        "  model.fit(x_train, y_train)           # Fitting model with necessary datasets\n",
        "  y_pred = model.predict(x_test)        # Making predicitons\n",
        "  accuracy = np.mean(y_test==y_pred)    # Calculating accuracy scores\n",
        "  results.append(accuracy)              # Appending accuracy scores to results list\n",
        "  auc_score =  metrics.roc_auc_score(y_test, y_pred)\n",
        "\n",
        "  from sklearn import metrics\n",
        "  print(\"Accuracy\",x,\":\", accuracy)\n",
        "  print(\"AUC     \",x,\":\", auc_score)\n",
        "\n",
        "# Displaying the accuracy scores at each given n_estimator on a plot\n",
        "plt.figure(figsize=(10,4))\n",
        "pd.Series(results, tree_amount).plot(marker=\"o\")\n",
        "plt.ylabel(\"Accuracy\")\n",
        "plt.xlabel(\"Number of Trees\")\n",
        "plt.title(\"Gradient Boosting Model\")\n",
        "plt.grid()\n",
        "plt.show()"
      ],
      "execution_count": 55,
      "outputs": [
        {
          "output_type": "stream",
          "text": [
            "Accuracy 50 : 0.8470609913395983\n",
            "AUC      50 : 0.7559362036725136\n",
            "Accuracy 100 : 0.8466310423192679\n",
            "AUC      100 : 0.756732293417189\n",
            "Accuracy 150 : 0.8466310423192679\n",
            "AUC      150 : 0.758618011789229\n",
            "Accuracy 200 : 0.8466924636078865\n",
            "AUC      200 : 0.7591072014412542\n",
            "Accuracy 250 : 0.847122412628217\n",
            "AUC      250 : 0.7598376456168019\n",
            "Accuracy 300 : 0.8469381487623611\n",
            "AUC      300 : 0.7598068144679949\n",
            "Accuracy 350 : 0.8471838339168356\n",
            "AUC      350 : 0.7602370391558727\n",
            "Accuracy 400 : 0.8468153061851238\n",
            "AUC      400 : 0.7595468040675789\n",
            "Accuracy 450 : 0.847122412628217\n",
            "AUC      450 : 0.7610049950852075\n",
            "Accuracy 500 : 0.8468767274737424\n",
            "AUC      500 : 0.7609339548491469\n"
          ],
          "name": "stdout"
        },
        {
          "output_type": "display_data",
          "data": {
            "image/png": "[encoded data removed]",
            "text/plain": [
              "<Figure size 720x288 with 1 Axes>"
            ]
          },
          "metadata": {
            "tags": [],
            "needs_background": "light"
          }
        }
      ]
    },
    {
      "cell_type": "markdown",
      "metadata": {
        "id": "U_bbHl_Kn3PD"
      },
      "source": [
        "## XGBoost Model"
      ]
    },
    {
      "cell_type": "code",
      "metadata": {
        "colab": {
          "base_uri": "https://localhost:8080/",
          "height": 635
        },
        "id": "zzmwUQNP86_Q",
        "outputId": "cf332c3e-54bf-4869-a1b5-de1a1e37bb53"
      },
      "source": [
        "# XGBoost Model\n",
        "results = []        # Creating blank list\n",
        "tree_amount = [50,100,150,200,250,300,350,400,450,500]      # Defining set of n_estimators\n",
        "for x in tree_amount: \n",
        "  model = xgb.XGBClassifier(n_estimators=x, random_state = 0)   # Calling XGBClassifier model             \n",
        "  model.fit(x_train, y_train)               # Fitting model with necessary datasets\n",
        "  y_pred = model.predict(x_test)            # Making predictions\n",
        "  accuracy = np.mean(y_test==y_pred)        # Calculating accuracy scores\n",
        "  results.append(accuracy)                  # Appending accuracy scores to result slist\n",
        "  auc_score =  metrics.roc_auc_score(y_test, y_pred)\n",
        "\n",
        "  from sklearn import metrics\n",
        "  print(\"Accuracy\",x,\":\", accuracy)\n",
        "  print(\"AUC     \",x,\":\", auc_score)\n",
        "\n",
        "plt.figure(figsize=(10,4))\n",
        "pd.Series(results, tree_amount).plot(marker=\"o\")\n",
        "plt.ylabel(\"Accuracy\")\n",
        "plt.xlabel(\"Number of Trees\")\n",
        "plt.title(\"XGBoost Model\")\n",
        "plt.grid()\n",
        "plt.show()\n"
      ],
      "execution_count": 56,
      "outputs": [
        {
          "output_type": "stream",
          "text": [
            "Accuracy 50 : 0.846446778453412\n",
            "AUC      50 : 0.7508647149263534\n",
            "Accuracy 100 : 0.847122412628217\n",
            "AUC      100 : 0.756784577776356\n",
            "Accuracy 150 : 0.8469995700509797\n",
            "AUC      150 : 0.7582306935220714\n",
            "Accuracy 200 : 0.846446778453412\n",
            "AUC      200 : 0.7592157534311023\n",
            "Accuracy 250 : 0.8467538848965052\n",
            "AUC      250 : 0.7597759833191879\n",
            "Accuracy 300 : 0.8466924636078865\n",
            "AUC      300 : 0.7600051625707972\n",
            "Accuracy 350 : 0.846446778453412\n",
            "AUC      350 : 0.759125957318148\n",
            "Accuracy 400 : 0.8465081997420306\n",
            "AUC      400 : 0.7591661664054017\n",
            "Accuracy 450 : 0.8462625145875561\n",
            "AUC      450 : 0.7585563494916153\n",
            "Accuracy 500 : 0.8462625145875561\n",
            "AUC      500 : 0.7591849222822954\n"
          ],
          "name": "stdout"
        },
        {
          "output_type": "display_data",
          "data": {
            "image/png": "[encoded data removed]",
            "text/plain": [
              "<Figure size 720x288 with 1 Axes>"
            ]
          },
          "metadata": {
            "tags": [],
            "needs_background": "light"
          }
        }
      ]
    },
    {
      "cell_type": "markdown",
      "metadata": {
        "id": "Az0Uq6bX-Qqn"
      },
      "source": [
        "## Performance Comparison\n"
      ]
    },
    {
      "cell_type": "code",
      "metadata": {
        "colab": {
          "base_uri": "https://localhost:8080/",
          "height": 111
        },
        "id": "6w_2aYWS-UAl",
        "outputId": "7c2c5d25-002f-4b1c-9a47-46c220bf19e0"
      },
      "source": [
        "#Create a new dataframe to iterate through each model fro Accuracy and AUC scores\n",
        "performance_df = pd.DataFrame(columns = ['Random Forest', 'AdaBoost', 'Gradient Boost', 'XGB'],  \n",
        "                   index = ['Accuracy', 'AUC']) \n",
        "performance_df"
      ],
      "execution_count": 57,
      "outputs": [
        {
          "output_type": "execute_result",
          "data": {
            "text/html": [
              "<div>\n",
              "<style scoped>\n",
              "    .dataframe tbody tr th:only-of-type {\n",
              "        vertical-align: middle;\n",
              "    }\n",
              "\n",
              "    .dataframe tbody tr th {\n",
              "        vertical-align: top;\n",
              "    }\n",
              "\n",
              "    .dataframe thead th {\n",
              "        text-align: right;\n",
              "    }\n",
              "</style>\n",
              "<table border=\"1\" class=\"dataframe\">\n",
              "  <thead>\n",
              "    <tr style=\"text-align: right;\">\n",
              "      <th></th>\n",
              "      <th>Random Forest</th>\n",
              "      <th>AdaBoost</th>\n",
              "      <th>Gradient Boost</th>\n",
              "      <th>XGB</th>\n",
              "    </tr>\n",
              "  </thead>\n",
              "  <tbody>\n",
              "    <tr>\n",
              "      <th>Accuracy</th>\n",
              "      <td>NaN</td>\n",
              "      <td>NaN</td>\n",
              "      <td>NaN</td>\n",
              "      <td>NaN</td>\n",
              "    </tr>\n",
              "    <tr>\n",
              "      <th>AUC</th>\n",
              "      <td>NaN</td>\n",
              "      <td>NaN</td>\n",
              "      <td>NaN</td>\n",
              "      <td>NaN</td>\n",
              "    </tr>\n",
              "  </tbody>\n",
              "</table>\n",
              "</div>"
            ],
            "text/plain": [
              "         Random Forest AdaBoost Gradient Boost  XGB\n",
              "Accuracy           NaN      NaN            NaN  NaN\n",
              "AUC                NaN      NaN            NaN  NaN"
            ]
          },
          "metadata": {
            "tags": []
          },
          "execution_count": 57
        }
      ]
    },
    {
      "cell_type": "code",
      "metadata": {
        "colab": {
          "base_uri": "https://localhost:8080/",
          "height": 145
        },
        "id": "M_xMn57s-j-C",
        "outputId": "7200518c-2d6c-4e50-cffd-f602fdf50843"
      },
      "source": [
        "from sklearn import metrics\n",
        " \n",
        "\n",
        "n_estimate = 200      # Identifying n_estimator for each iteration\n",
        "\n",
        "def performance_comparison():     # Creating function to iterate through each index of the previously created table\n",
        "  for index, row in performance_df.iterrows():\n",
        "    if index == \"Accuracy\":\n",
        "\n",
        "      # Random Forest \n",
        "      random_forest = RandomForestClassifier(n_estimators = n_estimate, max_features=\"auto\", random_state=0)\n",
        "      random_forest.fit(x_train, y_train)\n",
        "      random_forest_pred = random_forest.predict(x_test)\n",
        "      accuracy = accuracy_score(y_test, random_forest_pred)     \n",
        "      performance_df.at[index, 'Random Forest'] = accuracy.round(5)     # Putting the accuracy score into the appropriate location in the dataset\n",
        "\n",
        "      # AdaBoost \n",
        "      adaboost = AdaBoostClassifier(n_estimators = n_estimate, random_state=0)\n",
        "      adaboost.fit(x_train, y_train)\n",
        "      adaboost_pred = adaboost.predict(x_test)\n",
        "      accuracy = accuracy_score(y_test, adaboost_pred) \n",
        "      performance_df.at[index, 'AdaBoost'] = accuracy.round(5)          # Putting the accuracy score into the appropriate location in the dataset\n",
        "\n",
        "      # Gradient\n",
        "      gradient = GradientBoostingClassifier(n_estimators = n_estimate, random_state=0)\n",
        "      gradient.fit(x_train, y_train)\n",
        "      gradient_pred = gradient.predict(x_test)\n",
        "      accuracy = accuracy_score(y_test, gradient_pred)      \n",
        "      performance_df.at[index, 'Gradient Boost'] = accuracy.round(5)    # Putting the accuracy score into the appropriate location in the dataset\n",
        "\n",
        "      # XGB \n",
        "      xgb_model = xgb.XGBClassifier(n_estimators=x, random_state = 101)\n",
        "      xgb_model.fit(x_train, y_train)\n",
        "      xgb_model_pred = xgb_model.predict(x_test)\n",
        "      accuracy = accuracy_score(y_test, xgb_model_pred)     \n",
        "      performance_df.at[index, 'XGB'] = accuracy.round(5)               # Putting the accuracy score into the appropriate location in the dataset\n",
        "\n",
        "    if index == \"AUC\":\n",
        "      #Random Forest AUC score\n",
        "      AUC = roc_auc_score(y_test, random_forest_pred)\n",
        "      performance_df.at[index, 'Random Forest'] = AUC                   # Putting the AUC score into the appropriate location in the dataset\n",
        "      # Ada Boost AUC score\n",
        "      AUC = roc_auc_score(y_test, adaboost_pred)\n",
        "      performance_df.at[index, 'AdaBoost'] = AUC                        # Putting the AUC score into the appropriate location in the dataset\n",
        "      # Gradient Boost AUC score\n",
        "      AUC = roc_auc_score(y_test, gradient_pred)  \n",
        "      performance_df.at[index, 'Gradient Boost'] = AUC                  # Putting the AUC score into the appropriate location in the dataset\n",
        "      # XGB AUC score\n",
        "      AUC = roc_auc_score(y_test, xgb_model_pred)\n",
        "      performance_df.at[index, 'XGB'] = AUC                             # Putting the accuracy score into the appropriate location in the dataset\n",
        "\n",
        "      print(\"   random_state was set to 0 for all models\")\n",
        "      print(\"   Learning rate was set to default in every model possible\")\n",
        "\n",
        "\n",
        "\n",
        "performance_comparison()\n",
        "\n",
        "performance_df"
      ],
      "execution_count": 58,
      "outputs": [
        {
          "output_type": "stream",
          "text": [
            "   random_state was set to 0 for all models\n",
            "   Learning rate was set to default in every model possible\n"
          ],
          "name": "stdout"
        },
        {
          "output_type": "execute_result",
          "data": {
            "text/html": [
              "<div>\n",
              "<style scoped>\n",
              "    .dataframe tbody tr th:only-of-type {\n",
              "        vertical-align: middle;\n",
              "    }\n",
              "\n",
              "    .dataframe tbody tr th {\n",
              "        vertical-align: top;\n",
              "    }\n",
              "\n",
              "    .dataframe thead th {\n",
              "        text-align: right;\n",
              "    }\n",
              "</style>\n",
              "<table border=\"1\" class=\"dataframe\">\n",
              "  <thead>\n",
              "    <tr style=\"text-align: right;\">\n",
              "      <th></th>\n",
              "      <th>Random Forest</th>\n",
              "      <th>AdaBoost</th>\n",
              "      <th>Gradient Boost</th>\n",
              "      <th>XGB</th>\n",
              "    </tr>\n",
              "  </thead>\n",
              "  <tbody>\n",
              "    <tr>\n",
              "      <th>Accuracy</th>\n",
              "      <td>0.83717</td>\n",
              "      <td>0.84479</td>\n",
              "      <td>0.84669</td>\n",
              "      <td>0.84626</td>\n",
              "    </tr>\n",
              "    <tr>\n",
              "      <th>AUC</th>\n",
              "      <td>0.744883</td>\n",
              "      <td>0.746008</td>\n",
              "      <td>0.759107</td>\n",
              "      <td>0.759185</td>\n",
              "    </tr>\n",
              "  </tbody>\n",
              "</table>\n",
              "</div>"
            ],
            "text/plain": [
              "         Random Forest  AdaBoost Gradient Boost       XGB\n",
              "Accuracy       0.83717   0.84479        0.84669   0.84626\n",
              "AUC           0.744883  0.746008       0.759107  0.759185"
            ]
          },
          "metadata": {
            "tags": []
          },
          "execution_count": 58
        }
      ]
    }
  ]
}